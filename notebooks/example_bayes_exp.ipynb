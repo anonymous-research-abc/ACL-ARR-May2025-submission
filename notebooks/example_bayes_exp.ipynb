{
 "cells": [
  {
   "cell_type": "code",
   "execution_count": null,
   "id": "0365d657-fd70-4c58-89f5-29682ae3a84b",
   "metadata": {
    "tags": []
   },
   "outputs": [],
   "source": [
    "import sys \n",
    "import os\n",
    "import openai\n",
    "\n",
    "path = '/path/to/project/root/'\n",
    "sys.path.append(path)\n",
    "from llm.server import *\n",
    "from llm.experiments import ExpParams"
   ]
  },
  {
   "cell_type": "code",
   "execution_count": null,
   "id": "17c41dc0-3eab-419f-b0c1-919d3eb45448",
   "metadata": {
    "tags": []
   },
   "outputs": [],
   "source": [
    "# Parameter options:\n",
    "# - left_name, right_name: Names of the two models to compare, adjustable based on your experiment\n",
    "# - num_topics: Number of topics, adjustable according to the experimental needs\n",
    "# - num_rounds: Number of optimization rounds\n",
    "# - num_repeats: Number of experiment repetitions\n",
    "# - optimizer: Optimizer type, currently set to \"bayes\"\n",
    "# - questioner: Model used to generate questions\n",
    "# - num_sample: Number of samples drawn per round\n",
    "# - questioner_type: Type of questions, options include \"education\", \"disease\", etc.\n",
    "\n",
    "params = ExpParams(\n",
    "    left_name = \"llama_13b_4bit\", \n",
    "    right_name = \"llama_7b_4bit\",  \n",
    "    num_topics = 2,\n",
    "    num_rounds = 300,\n",
    "    num_repeats = 2,\n",
    "    optimizer = \"bayes\",\n",
    "    questioner = \"gpt_35\",\n",
    "    num_sample = 3,\n",
    "    questioner_type='education', #\"disease\"\n",
    ")\n",
    "df = run_exp_bayes(params)"
   ]
  }
 ],
 "metadata": {
  "kernelspec": {
   "display_name": "Python 3 (ipykernel)",
   "language": "python",
   "name": "python3"
  },
  "language_info": {
   "codemirror_mode": {
    "name": "ipython",
    "version": 3
   },
   "file_extension": ".py",
   "mimetype": "text/x-python",
   "name": "python",
   "nbconvert_exporter": "python",
   "pygments_lexer": "ipython3",
   "version": "3.11.8"
  }
 },
 "nbformat": 4,
 "nbformat_minor": 5
}
