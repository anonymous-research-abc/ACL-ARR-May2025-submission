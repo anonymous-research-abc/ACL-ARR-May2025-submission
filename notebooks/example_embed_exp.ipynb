{
 "cells": [
  {
   "cell_type": "code",
   "execution_count": null,
   "id": "5a958304-3947-4b41-b67c-5d3b67ca5248",
   "metadata": {
    "tags": []
   },
   "outputs": [],
   "source": [
    "import sys \n",
    "import os\n",
    "\n",
    "path = '/path/to/project/root/'\n",
    "sys.path.append(path)\n",
    "from llm.server import *\n",
    "from llm.experiments import ExpParams"
   ]
  },
  {
   "cell_type": "code",
   "execution_count": null,
   "id": "6ff95531-de03-4132-b8f6-7675d678a521",
   "metadata": {
    "tags": []
   },
   "outputs": [],
   "source": [
    "# Parameter settings should reflect your best-performing embedding results\n",
    "params_e = EmbedExpParams(\n",
    "    num_topics = 3,\n",
    "    train_n = 500000,\n",
    "    train_cmp = 2000000,\n",
    "    test_n = 500000,\n",
    "    test_cmp = 2000000,\n",
    "    embed_dim = 50,\n",
    "    layer_sizes = [200],\n",
    "    decoder_layer_sizes = [200],\n",
    "    train_batch_size = 64,\n",
    "    test_batch_size = 512,\n",
    "    lr = 0.001,\n",
    "    epochs = 200,\n",
    "    use_sigmoid = True,\n",
    "    take_sqrt = False,\n",
    "    data_dir = '/path/to/embed_test_network/',# Replace with your data directory\n",
    "    device = \"cuda:0\"\n",
    ")\n",
    "params_e.to_string()"
   ]
  },
  {
   "cell_type": "code",
   "execution_count": null,
   "id": "441b2a88-3b5f-443b-94a0-d9cf1bb120aa",
   "metadata": {
    "tags": []
   },
   "outputs": [],
   "source": [
    "params = ExpParams(\n",
    "    left_name = \"llama_7b\", # Model name, can be adjusted based on your experiment\n",
    "    right_name = \"llama_7b_4bit\", # Model name, can be adjusted based on your experiment\n",
    "    num_topics = 3, # Reflects topic combinations, should match above\n",
    "    num_rounds = 300,\n",
    "    num_repeats = 2,\n",
    "    optimizer = \"embed\",\n",
    "    questioner = \"gpt_35\",\n",
    "    num_sample = 3,\n",
    "    questioner_type='education', # Can be changed to \"disease\"\n",
    ")\n",
    "df, result = run_exp_embed(params, params_e)"
   ]
  },
  {
   "cell_type": "code",
   "execution_count": null,
   "id": "56577d6b-a5a5-4756-a3bb-39c8c93519b6",
   "metadata": {},
   "outputs": [],
   "source": []
  }
 ],
 "metadata": {
  "kernelspec": {
   "display_name": "Python 3 (ipykernel)",
   "language": "python",
   "name": "python3"
  },
  "language_info": {
   "codemirror_mode": {
    "name": "ipython",
    "version": 3
   },
   "file_extension": ".py",
   "mimetype": "text/x-python",
   "name": "python",
   "nbconvert_exporter": "python",
   "pygments_lexer": "ipython3",
   "version": "3.11.8"
  }
 },
 "nbformat": 4,
 "nbformat_minor": 5
}
