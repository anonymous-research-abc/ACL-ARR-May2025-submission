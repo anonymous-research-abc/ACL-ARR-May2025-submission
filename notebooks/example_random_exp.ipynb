{
 "cells": [
  {
   "cell_type": "code",
   "execution_count": null,
   "id": "120877df-0129-4e97-b9ee-865d31bbff6a",
   "metadata": {
    "tags": []
   },
   "outputs": [],
   "source": [
    "\n",
    "import sys \n",
    "import os\n",
    "path = '/path/to/project/root/'\n",
    "sys.path.append(path)\n",
    "from llm.server import *"
   ]
  },
  {
   "cell_type": "code",
   "execution_count": null,
   "id": "20a538dc-a554-4859-9342-28eba2461731",
   "metadata": {
    "tags": []
   },
   "outputs": [],
   "source": [
    "# Parameters description:\n",
    "# - left_name, right_name: Model names, adjustable based on your experiment\n",
    "# - num_topics: Number of topics, adjustable as needed\n",
    "# - num_rounds: Number of optimization rounds\n",
    "# - num_repeats: Number of repetitions per experiment\n",
    "# - questioner_device: Device used for the questioner model (e.g., \"cpu\", \"cuda:0\")\n",
    "# - left_device, right_device: Devices for running the left and right models\n",
    "# - optimizer: Optimization method (e.g., \"random\", \"bayes\")\n",
    "# - questioner: Model used for generating questions (e.g., \"gpt3.5\")\n",
    "# - num_sample: Number of samples per round, can be None\n",
    "\n",
    "params = ExpParams(\n",
    "    left_name = \"llama_7b\", \n",
    "    right_name = \"llama_13b\", \n",
    "    num_topics = 3,\n",
    "    num_rounds = 900,\n",
    "    num_repeats = 2,\n",
    "    optimizer=\"random\",\n",
    "    questioner=\"gpt_35\",\n",
    "    num_sample=None,\n",
    "    questioner_type='education',\n",
    "df = run_exp_random(params)"
   ]
  }
 ],
 "metadata": {
  "kernelspec": {
   "display_name": "Python 3 (ipykernel)",
   "language": "python",
   "name": "python3"
  },
  "language_info": {
   "codemirror_mode": {
    "name": "ipython",
    "version": 3
   },
   "file_extension": ".py",
   "mimetype": "text/x-python",
   "name": "python",
   "nbconvert_exporter": "python",
   "pygments_lexer": "ipython3",
   "version": "3.11.8"
  }
 },
 "nbformat": 4,
 "nbformat_minor": 5
}
