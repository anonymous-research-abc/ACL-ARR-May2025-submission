{
 "cells": [
  {
   "cell_type": "code",
   "execution_count": null,
   "id": "fc570e28-c85c-4148-957b-a281a0bc88b7",
   "metadata": {
    "tags": []
   },
   "outputs": [],
   "source": [
    "import os\n",
    "\n",
    "# Please update the paths below according to your environment before execution.\n",
    "os.system('PYTHONPATH=/path/to/project/ml:$PYTHONPATH '\n",
    "          '/path/to/conda/env/bin/python '\n",
    "          '/path/to/project/ml/llm/st_server.py --config_name config.json')\n",
    "\n",
    "#llm-m_st.json"
   ]
  },
  {
   "cell_type": "code",
   "execution_count": null,
   "id": "abd16586-ee62-4640-aecf-53b553ad7bfd",
   "metadata": {},
   "outputs": [],
   "source": []
  }
 ],
 "metadata": {
  "kernelspec": {
   "display_name": "Python 3 (ipykernel)",
   "language": "python",
   "name": "python3"
  },
  "language_info": {
   "codemirror_mode": {
    "name": "ipython",
    "version": 3
   },
   "file_extension": ".py",
   "mimetype": "text/x-python",
   "name": "python",
   "nbconvert_exporter": "python",
   "pygments_lexer": "ipython3",
   "version": "3.11.8"
  }
 },
 "nbformat": 4,
 "nbformat_minor": 5
}
